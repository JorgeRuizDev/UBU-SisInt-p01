{
 "cells": [
  {
   "cell_type": "markdown",
   "metadata": {},
   "source": [
    "# *Escapa, con la llave* (Modo Automático)\n",
    "\n",
    "---\n",
    "**Lee este *Notebook* con atención**\n",
    "\n",
    "En este *Notebook*, se va a cargar código de *Notebooks* anteriores, por lo que las funciones de los *Notebooks* anteriores deberían haber sido realizadas y **probadas**, antes de empezar con éste.\n",
    "\n",
    "Dado que este *Notebook* carga código de *Notebooks* anteriores, cada vez que se cambie o corrija uno de los *Notebooks* anteriores, **es necesario** recargar este *Notebook* al completo.\n",
    "\n",
    "Este *Notebook* constituye la segunda parte de la práctica.\n",
    "\n",
    "### ¿Qué se va a hacer?\n",
    "\n",
    "Se va a usar el algoritmo A\\* para resolver el juego de *Escapa, con la llave*.\n",
    "\n",
    "### ¿Cómo se va a hacer?\n",
    "\n",
    "- Se va a utilizar la implementación del A\\* realizada en el *Notebook* \"FuncionesBusqueda\". Si es necesario, habrá que corregir la implementación del A\\* anteror, para que funcione. \n",
    "\n",
    "- Se van a implementar funciones para:\n",
    "    - obtener cuándo un estado es *meta*.\n",
    "    - obtener cuál es el valor heurístico de un determinado estado.\n",
    "    - obtener los sucesores de un nodo. Para obtener los sucesores, se va a utilizar la función **move** realizada anteriormente. \n",
    "    \n",
    "A continuación se puede ver cómo, usando la clase **DynamicCodeLoader**, se puede cargar el código de los *Notebooks* anteriores. Este ejemplo sería solamente para poder hacer pruebas, dado que la interfaz gráfica lo integra ya todo.\n",
    "\n",
    "Todo el código del *Notebook* de la primera parte de la práctica se guarda en el módulo *model* y todo el código del *Notebook* de 'FuncionesBusqueda' se guarda en el módulo *search*.\n",
    "\n",
    "---"
   ]
  },
  {
   "cell_type": "code",
   "execution_count": 201,
   "metadata": {},
   "outputs": [],
   "source": [
    "# Cargar Celda\n",
    "import os\n",
    "from typing import Tuple, Callable\n",
    "from DynamicCodeLoader import cargaCodigoDinamico\n",
    "from EscapaConBooleanoLlave import Level, State\n",
    "# atento a los nombres que tengan tus notebook en tu PC\n",
    "model = cargaCodigoDinamico('JEscapaManualConBooleanoLlave.ipynb',\"Model\")\n",
    "search = cargaCodigoDinamico('FuncionesBusquedaACompletarEstudiantes.ipynb',\"Search\")\n",
    "nivel_global = None"
   ]
  },
  {
   "cell_type": "markdown",
   "metadata": {},
   "source": [
    "### Ejemplo 2: Usar el algoritmo A\\* para hacer pathfinding\n",
    "\n",
    "En el módulo *search* tenemos una implementación de A\\* y funciones y variables para hacer *pathfinding* (El problema de ir de la coordenada A a la coordenada B en un espacio de estados de coordenadas sin cajas, agua ni nada).\n",
    "\n",
    "En el ejemplo de abajo, se crea un tablero, un estado inicial y un estado final.\n",
    "\n",
    "La función *creaNodoInicialPF* crea un nodo para el problema del PathFinding y además inicializa los valores de las variables globales search.estadoFinalPF y search.tablero, que se usan dentro de las funciones de heurística y sucesores.\n",
    "\n",
    "Una vez creado el nodo, se invoca a la función *search.AStar* pasandole dicho nodo y las funciones de meta, heurística y sucesores."
   ]
  },
  {
   "cell_type": "code",
   "execution_count": 202,
   "metadata": {},
   "outputs": [
    {
     "name": "stdout",
     "output_type": "stream",
     "text": [
      "████████████████████\n",
      "██[][][]██        ██\n",
      "██  ██[]██[][][][]██\n",
      "██  ██[]████████[]██\n",
      "██  ██[][][][]██[]██\n",
      "██  ██      []██[]██\n",
      "██          []██[]██\n",
      "██  ██      [][][]██\n",
      "██  ██            ██\n",
      "████████████████████\n",
      "\n"
     ]
    }
   ],
   "source": [
    "tablero = [\n",
    "    [1, 1, 1, 1, 1, 1, 1, 1, 1, 1],\n",
    "    [1, 0, 1, 0, 1, 0, 0, 0, 0, 1],\n",
    "    [1, 0, 1, 0, 1, 0, 0, 0, 0, 1],\n",
    "    [1, 0, 1, 0, 1, 1, 1, 1, 0, 1],\n",
    "    [1, 0, 1, 0, 0, 0, 0, 1, 0, 1],\n",
    "    [1, 0, 1, 0, 0, 0, 0, 1, 0, 1],\n",
    "    [1, 0, 0, 0, 0, 0, 0, 1, 0, 1],\n",
    "    [1, 0, 1, 0, 0, 0, 0, 0, 0, 1],\n",
    "    [1, 0, 1, 0, 0, 0, 0, 0, 0, 1],\n",
    "    [1, 1, 1, 1, 1, 1, 1, 1, 1, 1],\n",
    "]\n",
    "\n",
    "\n",
    "\n",
    "estadoInicialPF = (1,1) #y,x\n",
    "estadoFinalPF = (2,5)\n",
    "\n",
    "\n",
    "\n",
    "    \n",
    "\n",
    "nodoInicialPF = search.creaNodoInicialPF(estadoInicialPF,\n",
    "                                  estadoFinalPF,\n",
    "                                  tablero,\n",
    "                                  search.heuristicaPF)\n",
    "\n",
    "solucion = search.AStar(nodoInicialPF,\n",
    "                        search.sucesoresPF, \n",
    "                        search.es_metaPF, \n",
    "                        search.heuristicaPF)\n",
    "print(search.dibujar(solucion, tablero))"
   ]
  },
  {
   "cell_type": "markdown",
   "metadata": {},
   "source": [
    "---\n",
    "\n",
    "## Que se necesita para resolver el juego de *Escapa, con la llave*, usando A\\*\n",
    "\n",
    "Se necesita:\n",
    "- Crear un nodo (proporcionado por el profesor)\n",
    "- Saber cuando un estado es meta (proporcionado por el profesor)\n",
    "- Función heurística (**Implementado por el alumno**)\n",
    "- Función de sucesores (**Implementado por el alumno**)\n",
    "\n",
    "---\n"
   ]
  },
  {
   "cell_type": "markdown",
   "metadata": {},
   "source": [
    "#### Crear un nodo\n",
    "\n",
    "La función **nodo_inicial_JEscapa** crea un nodo inicial se Kwirk con el estado y el nivel especificado. Usa la función fH para calcular el valor heurístico.\n",
    "\n",
    "Además inicializa:\n",
    "- nivel_global. Una variable global que puede ser usada por las funciones de meta, de hurística y de sucesores\n",
    "- num_evaluados. Una variable que lleva la cuenta del número de nodos evaluados. Y saber posteriormente que implementación de heurística es mejor."
   ]
  },
  {
   "cell_type": "code",
   "execution_count": 203,
   "metadata": {},
   "outputs": [],
   "source": [
    "# Cargar Celda\n",
    "num_evaluados = 0\n",
    "coste_total = 0\n",
    "\n",
    "\n",
    "def nodo_inicial_JEscapa(nivel_actual: Level,\n",
    "                            estado_actual:\n",
    "                            State,calcular_heuristica: Callable[[State],int]\n",
    "                            ) -> \"Node\":\n",
    "\n",
    "    \"\"\" Crea un nodo del juego de \"Escapa con la llave\"\n",
    "    Devuelve un nodo\n",
    "    Parámetros:\n",
    "    nivel que contiene el tablero y los destinos\n",
    "    estado inicial que contiene el jugador y las cajas\n",
    "    fH heurística usada para calcular la F.\n",
    "    \"\"\"\n",
    "\n",
    "    global nivel_global\n",
    "    global num_evaluados\n",
    "    nivel_global = nivel_actual\n",
    "    print(calcular_heuristica(estado_actual))\n",
    "    nodoInicial = search.Node(estado_actual,\n",
    "                              None,\n",
    "                              0,\n",
    "                              calcular_heuristica(estado_actual))\n",
    "    num_evaluados = 0 # reinicio el número de evaluados\n",
    "    \n",
    "    return nodoInicial"
   ]
  },
  {
   "cell_type": "markdown",
   "metadata": {},
   "source": [
    "#### Saber cuando es meta\n",
    "\n",
    "La función *meta_JEscapa* toma un nodo y va a devolver *True*, si dicho nodo contiene un estado *meta* (todas las cajas están sobre los destinos, reutilizando *es_meta*, de la primera parte).\n",
    "\n",
    "Además, si es *meta*, recupera el valor de **G** (el coste), para saber el coste de la solución.\n"
   ]
  },
  {
   "cell_type": "code",
   "execution_count": 204,
   "metadata": {},
   "outputs": [],
   "source": [
    "# Cargar Celda\n",
    "\n",
    "def meta_JEscapa(nodo: \"Node\") -> bool:\n",
    "    \"\"\" Consulta si un nodo contiene un estado meta\n",
    "    Devuelve True si es meta\n",
    "    Parámetros:\n",
    "    nodo a evaluar\n",
    "    \"\"\" \n",
    "    estado_actual: State = nodo.get_id()\n",
    "    global nivel_global\n",
    "    global coste_total\n",
    "    \n",
    "    return estado_actual.get_player() is None"
   ]
  },
  {
   "cell_type": "markdown",
   "metadata": {},
   "source": [
    "### Cálculo del *valor heurístico*\n",
    "\n",
    "**(Lo han de implementar los alumnos)**\n",
    "\n",
    "Esta función tiene que devolver un valor númerico que estime los movimientos que *faltan*, para llegar a la meta.\n",
    "\n",
    "Ejemplos:\n",
    "- $f_0$: Devuelve siempre 0. Es *minorante*, así es que encontraría el camino más corto.\n",
    "- $f_1$: Devuelve la suma de distancias de *Manhattan*, entre la meta y los jugadores. Es *minorante*.\n",
    "- $f_2$ y $f_3$: Inventadas por el alumno, para que tengan en cuenta el agua y las cajas.\n",
    "\n",
    "$f_0 < f_1$ \n",
    "\n",
    "Cuanto mayor sea el valor heurístico, menos nodos se explorarán, y encontrará el camino mínimo, siempre que sea *minorante*.\n"
   ]
  },
  {
   "cell_type": "code",
   "execution_count": 205,
   "metadata": {},
   "outputs": [],
   "source": [
    "# Cargar Celda\n",
    "\n",
    "def heuristica_JEscapa(estado: State):\n",
    "    \"\"\" Evalua el coste estimado desde un estado hasta la meta\n",
    "    Utiliza el método de Manhattan\n",
    "    Devuelve un número positivo mayor que 0\n",
    "    Parámetros:\n",
    "    Estado a evaluar\n",
    "    \"\"\" \n",
    "    \n",
    "    global nivel_global\n",
    "    # cada vez que se invoca la heurística, se incrementa en 1 el número de nodos evaluados\n",
    "    global num_evaluados\n",
    "    num_evaluados += 1\n",
    "    print(nivel_global)\n",
    "    if estado.get_player() is None:\n",
    "        return 0\n",
    "\n",
    "\n",
    "    return abs(nivel_global.get_destino()[0] - estado.get_player()[0]) + abs(nivel_global.get_destino()[1] - estado.get_player()[1])\n",
    "\n"
   ]
  },
  {
   "cell_type": "markdown",
   "metadata": {},
   "source": [
    "### Crear sucesores\n",
    "\n",
    "Esta función debería crear nodos *sucesores*, siguiendo una de estas dos estrategías:\n",
    "\n",
    "*Opción sencilla*:\n",
    "- Habría un máximo de 4 sucesores, el resultado de ejecutar los movimientos arriba, abajo, derecha o izquierda. Si alguno de los movimientos no se puede ejecutar, habría menos de 3 sucesores.\n",
    "\n",
    "*Opción avanzada*: \n",
    "- Consideraríamos los siguientes tipos de sucesores:\n",
    "    - Sucesores colocarse: Lleva el jugador hasta la meta, o a una posición adyacente a una caja.\n",
    "    - Sucesores empujar: Empuja una caja.\n",
    "    \n",
    "Si se puede ir a la meta, se va a la meta. Si no, es que hay una caja o agua bloqueando el camino, así que habrá que ir junto a una caja, para así, empujarla. Los desplazamientos hasta la meta o hasta las coordenadas adyacentes a una caja se harán con la opción *pathfinding*.\n",
    "\n",
    "Con esta idea, no se exploran estados intermedios en los que no existe ni la posibilidad de empujar una caja."
   ]
  },
  {
   "cell_type": "code",
   "execution_count": 206,
   "metadata": {},
   "outputs": [],
   "source": [
    "# Cargar Celda\n",
    "\n",
    "def sucesores_JEscapa(nodo,hSoc):\n",
    "    global nivel_global\n",
    "    estado = nodo.get_id()\n",
    "    g = nodo.get_g()\n",
    "    hijos = []\n",
    "    movs = [[1,0],[-1,0],[0,1],[0,-1]]\n",
    "        \n",
    "    for mov in movs:\n",
    "        hijo = model.move(nivel_global,estado,mov)\n",
    "        \n",
    "        if hijo != estado:\n",
    "            nuevaG = g+1\n",
    "            h=hSoc(hijo)\n",
    "            hijos.append(search.Node(hijo,nodo,nuevaG,nuevaG+h))\n",
    "    \n",
    "    return hijos"
   ]
  },
  {
   "cell_type": "code",
   "execution_count": 207,
   "metadata": {},
   "outputs": [],
   "source": [
    "# Cargar Celda\n",
    "\n",
    "# Crea tantas celdas como necesites, si son funciones necesarias\n",
    "# para el juego deberán empezar por Cargar Celda\n"
   ]
  },
  {
   "cell_type": "markdown",
   "metadata": {},
   "source": [
    "# Probando las funciones\n",
    "\n",
    "La manera de probar las funciones es igual que en la primera parte de la práctica.\n",
    "\n",
    "Se carga un nivel donde tengamos la partida que queremos probar."
   ]
  },
  {
   "cell_type": "code",
   "execution_count": 208,
   "metadata": {},
   "outputs": [],
   "source": [
    "# Si tienes problemas empieza cargando los niveles más fáciles el 0, el 1\n",
    "# Aumenta la dificultad a medida que arregles los fallos.\n",
    "from LoaderEscapaConBooleanoLlaveVPedro import Loader\n",
    "l = Loader()\n",
    "l.get_all_levels()\n",
    "level_txt = open(\".\"+os.sep+\"levels\"+os.sep+\"level_PruebaJEscapaTrivial.txt\",'r',encoding=\"utf-8\").read()\n",
    "level1, state1 = l.load_level(level_txt)\n",
    "global nivel_global\n",
    "nivel_global = level1"
   ]
  },
  {
   "cell_type": "code",
   "execution_count": 209,
   "metadata": {},
   "outputs": [
    {
     "name": "stdout",
     "output_type": "stream",
     "text": [
      "#######\n",
      "#!* ###\n",
      "#x¡+ -#\n",
      "#x @  #\n",
      "#x    #\n",
      "#######\n"
     ]
    }
   ],
   "source": [
    "# Imprimimos el nivel para asegurarnos que todo es correcto.\n",
    "print(level_txt)"
   ]
  },
  {
   "cell_type": "code",
   "execution_count": 210,
   "metadata": {},
   "outputs": [
    {
     "data": {
      "text/plain": "[(0, 0, 0, 0, 0, 0, 0),\n (0, 0, 1, 1, 0, 0, 0),\n (0, 1, 1, 1, 1, 1, 0),\n (0, 1, 1, 1, 1, 1, 0),\n (0, 1, 1, 1, 1, 1, 0),\n (0, 0, 0, 0, 0, 0, 0)]"
     },
     "execution_count": 210,
     "metadata": {},
     "output_type": "execute_result"
    }
   ],
   "source": [
    "level1.get_tablero()"
   ]
  },
  {
   "cell_type": "code",
   "execution_count": 211,
   "metadata": {},
   "outputs": [
    {
     "data": {
      "text/plain": "HTML(value='<style> img.game {width: 50px !important; height: 50px !important;}</style><table><tr><td><img cla…",
      "application/vnd.jupyter.widget-view+json": {
       "version_major": 2,
       "version_minor": 0,
       "model_id": "af82a95165864682990e23b87d4cb349"
      }
     },
     "metadata": {},
     "output_type": "display_data"
    }
   ],
   "source": [
    "# ejemplo de como se visualiza un nivel\n",
    "from UIJEscapaVPedro import gui\n",
    "from ipywidgets import HTML\n",
    "ui = gui()\n",
    "htmlStr = ui.get_html(level1, state1)\n",
    "HTML(value = htmlStr)"
   ]
  },
  {
   "cell_type": "code",
   "execution_count": 212,
   "metadata": {},
   "outputs": [
    {
     "name": "stdout",
     "output_type": "stream",
     "text": [
      "Player: [3, 3] + Piedra: {(2, 3)} + Agua + {(2, 5)} + Aspa: {(3, 1), (4, 1), (2, 1)} + Llave: {(2, 2)} + Tiene llave: 0\n",
      "False\n",
      "Player: [4, 3] + Piedra: {(2, 3)} + Agua + {(2, 5)} + Aspa: {(3, 1), (4, 1), (2, 1)} + Llave: {(2, 2)} + Tiene llave: 0\n"
     ]
    }
   ],
   "source": [
    "# Ejemplos de Model\n",
    "print(state1)\n",
    "print(model.is_goal(state1))\n",
    "\n",
    "new_state1 = model.move(level1,state1,[1,0])\n",
    "print(new_state1)"
   ]
  },
  {
   "cell_type": "code",
   "execution_count": 213,
   "metadata": {},
   "outputs": [
    {
     "data": {
      "text/plain": "HTML(value='<style> img.game {width: 50px !important; height: 50px !important;}</style><table><tr><td><img cla…",
      "application/vnd.jupyter.widget-view+json": {
       "version_major": 2,
       "version_minor": 0,
       "model_id": "dea05abcd3934a3a9c58ea5d41a83e79"
      }
     },
     "metadata": {},
     "output_type": "display_data"
    }
   ],
   "source": [
    "from UIJEscapaVPedro import gui\n",
    "from ipywidgets import HTML\n",
    "ui = gui()\n",
    "\n",
    "htmlStr = ui.get_html(level1, new_state1)\n",
    "HTML(value = htmlStr)"
   ]
  },
  {
   "cell_type": "markdown",
   "metadata": {},
   "source": [
    "---\n",
    "Se usa el estado y el nivel para para crear un Nodo. **Siempre hay que crear un nodo inicial**. Las funciones de *heurística* y *sucesores* funcionan sobre nodos.\n",
    "\n",
    "La función de *crear nodo* sería una de las funciones proporcionadas por el profesor.\n",
    "\n",
    "---"
   ]
  },
  {
   "cell_type": "code",
   "execution_count": 214,
   "metadata": {},
   "outputs": [
    {
     "name": "stdout",
     "output_type": "stream",
     "text": [
      "Enemigo: (1, 1) + Destino: (1, 2) + Tablero: [(0, 0, 0, 0, 0, 0, 0), (0, 0, 1, 1, 0, 0, 0), (0, 1, 1, 1, 1, 1, 0), (0, 1, 1, 1, 1, 1, 0), (0, 1, 1, 1, 1, 1, 0), (0, 0, 0, 0, 0, 0, 0)]\n",
      "3\n",
      "Enemigo: (1, 1) + Destino: (1, 2) + Tablero: [(0, 0, 0, 0, 0, 0, 0), (0, 0, 1, 1, 0, 0, 0), (0, 1, 1, 1, 1, 1, 0), (0, 1, 1, 1, 1, 1, 0), (0, 1, 1, 1, 1, 1, 0), (0, 0, 0, 0, 0, 0, 0)]\n"
     ]
    },
    {
     "data": {
      "text/plain": "Player: [3, 3] + Piedra: {(2, 3)} + Agua + {(2, 5)} + Aspa: {(3, 1), (4, 1), (2, 1)} + Llave: {(2, 2)} + Tiene llave: 0 f:3 g:0 p:p:\\|"
     },
     "execution_count": 214,
     "metadata": {},
     "output_type": "execute_result"
    }
   ],
   "source": [
    "nodoInicial = nodo_inicial_JEscapa(level1,state1,heuristica_JEscapa)    \n",
    "nodoInicial"
   ]
  },
  {
   "cell_type": "markdown",
   "metadata": {},
   "source": [
    "Después de crear el nodo inicial se pueden probar las funciones.\n"
   ]
  },
  {
   "cell_type": "code",
   "execution_count": 215,
   "metadata": {},
   "outputs": [
    {
     "name": "stdout",
     "output_type": "stream",
     "text": [
      "Enemigo: (1, 1) + Destino: (1, 2) + Tablero: [(0, 0, 0, 0, 0, 0, 0), (0, 0, 1, 1, 0, 0, 0), (0, 1, 1, 1, 1, 1, 0), (0, 1, 1, 1, 1, 1, 0), (0, 1, 1, 1, 1, 1, 0), (0, 0, 0, 0, 0, 0, 0)]\n",
      "Enemigo: (1, 1) + Destino: (1, 2) + Tablero: [(0, 0, 0, 0, 0, 0, 0), (0, 0, 1, 1, 0, 0, 0), (0, 1, 1, 1, 1, 1, 0), (0, 1, 1, 1, 1, 1, 0), (0, 1, 1, 1, 1, 1, 0), (0, 0, 0, 0, 0, 0, 0)]\n",
      "Enemigo: (1, 1) + Destino: (1, 2) + Tablero: [(0, 0, 0, 0, 0, 0, 0), (0, 0, 1, 1, 0, 0, 0), (0, 1, 1, 1, 1, 1, 0), (0, 1, 1, 1, 1, 1, 0), (0, 1, 1, 1, 1, 1, 0), (0, 0, 0, 0, 0, 0, 0)]\n",
      "Enemigo: (1, 1) + Destino: (1, 2) + Tablero: [(0, 0, 0, 0, 0, 0, 0), (0, 0, 1, 1, 0, 0, 0), (0, 1, 1, 1, 1, 1, 0), (0, 1, 1, 1, 1, 1, 0), (0, 1, 1, 1, 1, 1, 0), (0, 0, 0, 0, 0, 0, 0)]\n"
     ]
    },
    {
     "data": {
      "text/plain": "[Player: [4, 3] + Piedra: {(2, 3)} + Agua + {(2, 5)} + Aspa: {(3, 1), (4, 1), (2, 1)} + Llave: {(2, 2)} + Tiene llave: 0 f:5 g:1 p:p:Player: [3, 3] + Piedra: {(2, 3)} + Agua + {(2, 5)} + Aspa: {(3, 1), (4, 1), (2, 1)} + Llave: {(2, 2)} + Tiene llave: 0|,\n Player: [2, 3] + Piedra: {(1, 3)} + Agua + {(2, 5)} + Aspa: {(3, 1), (4, 1), (2, 1)} + Llave: {(2, 2)} + Tiene llave: 0 f:3 g:1 p:p:Player: [3, 3] + Piedra: {(2, 3)} + Agua + {(2, 5)} + Aspa: {(3, 1), (4, 1), (2, 1)} + Llave: {(2, 2)} + Tiene llave: 0|,\n Player: [3, 4] + Piedra: {(2, 3)} + Agua + {(2, 5)} + Aspa: {(3, 1), (4, 1), (2, 1)} + Llave: {(2, 2)} + Tiene llave: 0 f:5 g:1 p:p:Player: [3, 3] + Piedra: {(2, 3)} + Agua + {(2, 5)} + Aspa: {(3, 1), (4, 1), (2, 1)} + Llave: {(2, 2)} + Tiene llave: 0|,\n Player: [3, 2] + Piedra: {(2, 3)} + Agua + {(2, 5)} + Aspa: {(3, 1), (4, 1), (2, 1)} + Llave: {(2, 2)} + Tiene llave: 0 f:3 g:1 p:p:Player: [3, 3] + Piedra: {(2, 3)} + Agua + {(2, 5)} + Aspa: {(3, 1), (4, 1), (2, 1)} + Llave: {(2, 2)} + Tiene llave: 0|]"
     },
     "execution_count": 215,
     "metadata": {},
     "output_type": "execute_result"
    }
   ],
   "source": [
    "sucesores = sucesores_JEscapa(nodoInicial,heuristica_JEscapa)\n",
    "sucesores"
   ]
  },
  {
   "cell_type": "markdown",
   "metadata": {},
   "source": [
    "Podemos probar el A\\* en su conjunto de la siguiente forma:"
   ]
  },
  {
   "cell_type": "code",
   "execution_count": 216,
   "metadata": {},
   "outputs": [
    {
     "name": "stdout",
     "output_type": "stream",
     "text": [
      "Enemigo: (1, 1) + Destino: (1, 2) + Tablero: [(0, 0, 0, 0, 0, 0, 0), (0, 0, 1, 1, 0, 0, 0), (0, 1, 1, 1, 1, 1, 0), (0, 1, 1, 1, 1, 1, 0), (0, 1, 1, 1, 1, 1, 0), (0, 0, 0, 0, 0, 0, 0)]\n",
      "Enemigo: (1, 1) + Destino: (1, 2) + Tablero: [(0, 0, 0, 0, 0, 0, 0), (0, 0, 1, 1, 0, 0, 0), (0, 1, 1, 1, 1, 1, 0), (0, 1, 1, 1, 1, 1, 0), (0, 1, 1, 1, 1, 1, 0), (0, 0, 0, 0, 0, 0, 0)]\n",
      "Enemigo: (1, 1) + Destino: (1, 2) + Tablero: [(0, 0, 0, 0, 0, 0, 0), (0, 0, 1, 1, 0, 0, 0), (0, 1, 1, 1, 1, 1, 0), (0, 1, 1, 1, 1, 1, 0), (0, 1, 1, 1, 1, 1, 0), (0, 0, 0, 0, 0, 0, 0)]\n",
      "Enemigo: (1, 1) + Destino: (1, 2) + Tablero: [(0, 0, 0, 0, 0, 0, 0), (0, 0, 1, 1, 0, 0, 0), (0, 1, 1, 1, 1, 1, 0), (0, 1, 1, 1, 1, 1, 0), (0, 1, 1, 1, 1, 1, 0), (0, 0, 0, 0, 0, 0, 0)]\n",
      "Enemigo: (1, 1) + Destino: (1, 2) + Tablero: [(0, 0, 0, 0, 0, 0, 0), (0, 0, 1, 1, 0, 0, 0), (0, 1, 1, 1, 1, 1, 0), (0, 1, 1, 1, 1, 1, 0), (0, 1, 1, 1, 1, 1, 0), (0, 0, 0, 0, 0, 0, 0)]\n",
      "Enemigo: (1, 1) + Destino: (1, 2) + Tablero: [(0, 0, 0, 0, 0, 0, 0), (0, 0, 1, 1, 0, 0, 0), (0, 1, 1, 1, 1, 1, 0), (0, 1, 1, 1, 1, 1, 0), (0, 1, 1, 1, 1, 1, 0), (0, 0, 0, 0, 0, 0, 0)]\n",
      "Enemigo: (1, 1) + Destino: (1, 2) + Tablero: [(0, 0, 0, 0, 0, 0, 0), (0, 0, 1, 1, 0, 0, 0), (0, 1, 1, 1, 1, 1, 0), (0, 1, 1, 1, 1, 1, 0), (0, 1, 1, 1, 1, 1, 0), (0, 0, 0, 0, 0, 0, 0)]\n",
      "Enemigo: (1, 1) + Destino: (1, 2) + Tablero: [(0, 0, 0, 0, 0, 0, 0), (0, 0, 1, 1, 0, 0, 0), (0, 1, 1, 1, 1, 1, 0), (0, 1, 1, 1, 1, 1, 0), (0, 1, 1, 1, 1, 1, 0), (0, 0, 0, 0, 0, 0, 0)]\n",
      "Enemigo: (1, 1) + Destino: (1, 2) + Tablero: [(0, 0, 0, 0, 0, 0, 0), (0, 0, 1, 1, 0, 0, 0), (0, 1, 1, 1, 1, 1, 0), (0, 1, 1, 1, 1, 1, 0), (0, 1, 1, 1, 1, 1, 0), (0, 0, 0, 0, 0, 0, 0)]\n",
      "Enemigo: (1, 1) + Destino: (1, 2) + Tablero: [(0, 0, 0, 0, 0, 0, 0), (0, 0, 1, 1, 0, 0, 0), (0, 1, 1, 1, 1, 1, 0), (0, 1, 1, 1, 1, 1, 0), (0, 1, 1, 1, 1, 1, 0), (0, 0, 0, 0, 0, 0, 0)]\n",
      "Enemigo: (1, 1) + Destino: (1, 2) + Tablero: [(0, 0, 0, 0, 0, 0, 0), (0, 0, 1, 1, 0, 0, 0), (0, 1, 1, 1, 1, 1, 0), (0, 1, 1, 1, 1, 1, 0), (0, 1, 1, 1, 1, 1, 0), (0, 0, 0, 0, 0, 0, 0)]\n",
      "Enemigo: (1, 1) + Destino: (1, 2) + Tablero: [(0, 0, 0, 0, 0, 0, 0), (0, 0, 1, 1, 0, 0, 0), (0, 1, 1, 1, 1, 1, 0), (0, 1, 1, 1, 1, 1, 0), (0, 1, 1, 1, 1, 1, 0), (0, 0, 0, 0, 0, 0, 0)]\n",
      "Enemigo: (1, 1) + Destino: (1, 2) + Tablero: [(0, 0, 0, 0, 0, 0, 0), (0, 0, 1, 1, 0, 0, 0), (0, 1, 1, 1, 1, 1, 0), (0, 1, 1, 1, 1, 1, 0), (0, 1, 1, 1, 1, 1, 0), (0, 0, 0, 0, 0, 0, 0)]\n",
      "Enemigo: (1, 1) + Destino: (1, 2) + Tablero: [(0, 0, 0, 0, 0, 0, 0), (0, 0, 1, 1, 0, 0, 0), (0, 1, 1, 1, 1, 1, 0), (0, 1, 1, 1, 1, 1, 0), (0, 1, 1, 1, 1, 1, 0), (0, 0, 0, 0, 0, 0, 0)]\n",
      "Enemigo: (1, 1) + Destino: (1, 2) + Tablero: [(0, 0, 0, 0, 0, 0, 0), (0, 0, 1, 1, 0, 0, 0), (0, 1, 1, 1, 1, 1, 0), (0, 1, 1, 1, 1, 1, 0), (0, 1, 1, 1, 1, 1, 0), (0, 0, 0, 0, 0, 0, 0)]\n",
      "Enemigo: (1, 1) + Destino: (1, 2) + Tablero: [(0, 0, 0, 0, 0, 0, 0), (0, 0, 1, 1, 0, 0, 0), (0, 1, 1, 1, 1, 1, 0), (0, 1, 1, 1, 1, 1, 0), (0, 1, 1, 1, 1, 1, 0), (0, 0, 0, 0, 0, 0, 0)]\n",
      "Enemigo: (1, 1) + Destino: (1, 2) + Tablero: [(0, 0, 0, 0, 0, 0, 0), (0, 0, 1, 1, 0, 0, 0), (0, 1, 1, 1, 1, 1, 0), (0, 1, 1, 1, 1, 1, 0), (0, 1, 1, 1, 1, 1, 0), (0, 0, 0, 0, 0, 0, 0)]\n",
      "Enemigo: (1, 1) + Destino: (1, 2) + Tablero: [(0, 0, 0, 0, 0, 0, 0), (0, 0, 1, 1, 0, 0, 0), (0, 1, 1, 1, 1, 1, 0), (0, 1, 1, 1, 1, 1, 0), (0, 1, 1, 1, 1, 1, 0), (0, 0, 0, 0, 0, 0, 0)]\n",
      "Enemigo: (1, 1) + Destino: (1, 2) + Tablero: [(0, 0, 0, 0, 0, 0, 0), (0, 0, 1, 1, 0, 0, 0), (0, 1, 1, 1, 1, 1, 0), (0, 1, 1, 1, 1, 1, 0), (0, 1, 1, 1, 1, 1, 0), (0, 0, 0, 0, 0, 0, 0)]\n",
      "Enemigo: (1, 1) + Destino: (1, 2) + Tablero: [(0, 0, 0, 0, 0, 0, 0), (0, 0, 1, 1, 0, 0, 0), (0, 1, 1, 1, 1, 1, 0), (0, 1, 1, 1, 1, 1, 0), (0, 1, 1, 1, 1, 1, 0), (0, 0, 0, 0, 0, 0, 0)]\n",
      "Solución \n",
      "[3, 3]\n",
      "[2, 3]\n",
      "[2, 2]\n",
      "None\n",
      "Nodos evaluados  24\n",
      "Coste de la solución  0\n"
     ]
    }
   ],
   "source": [
    "solucion = search.AStar(nodoInicial,\n",
    "                        sucesores_JEscapa, \n",
    "                        meta_JEscapa, \n",
    "                        heuristica_JEscapa)\n",
    "print(\"Solución \")\n",
    "for estado in solucion:\n",
    "    print(estado.get_id().get_player())\n",
    "print(\"Nodos evaluados \",num_evaluados)\n",
    "print(\"Coste de la solución \",coste_total)"
   ]
  },
  {
   "cell_type": "markdown",
   "metadata": {},
   "source": [
    "Podriamos visualizar la solución de manera gráfica así:"
   ]
  },
  {
   "cell_type": "code",
   "execution_count": 217,
   "metadata": {},
   "outputs": [
    {
     "data": {
      "text/plain": "VBox(children=(VBox(children=(HTML(value='<style> img.game {width: 50px !important; height: 50px !important;}<…",
      "application/vnd.jupyter.widget-view+json": {
       "version_major": 2,
       "version_minor": 0,
       "model_id": "2af8bf620be54c638c778e3bbbfe245d"
      }
     },
     "metadata": {},
     "output_type": "display_data"
    }
   ],
   "source": [
    "# mejor en chrome\n",
    "from ipywidgets import VBox, Label\n",
    "\n",
    "htmls = []\n",
    "for est in solucion:\n",
    "    htmlStr = ui.get_html(level1, est.get_id()) # estoy cargando el mapa1\n",
    "    htmls.append(HTML(value = htmlStr))\n",
    "    \n",
    "\n",
    "\n",
    "from ipywidgets import Layout, Button, VBox\n",
    "\n",
    "box_layout = Layout(overflow_x='scroll',\n",
    "                    width='310px',\n",
    "                    height='',\n",
    "                    flex_direction='row',\n",
    "                    display='flex')\n",
    "carousel = VBox(children=htmls, layout=box_layout)\n",
    "VBox([carousel])"
   ]
  },
  {
   "cell_type": "markdown",
   "metadata": {},
   "source": [
    "Una vez hayas implementado y probado las funciones, trata de ejecutar el juego.\n",
    "\n",
    "El Mediador que es la clase que sirve de enganche entre las clases de interfaz y la funcionalidad, leerá las celdas que empiezan por \"# Cargar Celda\", cargará esas funciones dinámicamente y las usará para mover y comprobar si la partida finaliza."
   ]
  },
  {
   "cell_type": "code",
   "execution_count": 218,
   "metadata": {
    "scrolled": true
   },
   "outputs": [
    {
     "data": {
      "text/plain": "VBox(children=(Dropdown(description='Elija nivel:', options=('level_PruebaJEscapa.txt', 'level_PruebaJEscapaTr…",
      "application/vnd.jupyter.widget-view+json": {
       "version_major": 2,
       "version_minor": 0,
       "model_id": "fa1cd5d7950d437aafcfa98b80308b7f"
      }
     },
     "metadata": {},
     "output_type": "display_data"
    },
    {
     "ename": "NameError",
     "evalue": "name 'nivel_global' is not defined",
     "output_type": "error",
     "traceback": [
      "\u001B[1;31m---------------------------------------------------------------------------\u001B[0m",
      "\u001B[1;31mNameError\u001B[0m                                 Traceback (most recent call last)",
      "\u001B[1;32m~\\OneDrive - Universidad de Burgos\\- Sistemas Inteligentes\\Práctica 07 - 10.11.2020\\Clase7-VersionAutomaticaDelJuegoSinSolucion\\MediadorVPedroConBooleanoLlave.py\u001B[0m in \u001B[0;36m<lambda>\u001B[1;34m(button)\u001B[0m\n\u001B[0;32m     85\u001B[0m \u001B[1;33m\u001B[0m\u001B[0m\n\u001B[0;32m     86\u001B[0m         \u001B[1;32mfor\u001B[0m \u001B[0mabutton\u001B[0m \u001B[1;32min\u001B[0m \u001B[0mbotones_accion\u001B[0m\u001B[1;33m:\u001B[0m\u001B[1;33m\u001B[0m\u001B[1;33m\u001B[0m\u001B[0m\n\u001B[1;32m---> 87\u001B[1;33m             \u001B[0mabutton\u001B[0m\u001B[1;33m.\u001B[0m\u001B[0mon_click\u001B[0m\u001B[1;33m(\u001B[0m\u001B[1;32mlambda\u001B[0m \u001B[0mbutton\u001B[0m\u001B[1;33m:\u001B[0m \u001B[0mself\u001B[0m\u001B[1;33m.\u001B[0m\u001B[0mbutton_action_event\u001B[0m\u001B[1;33m(\u001B[0m\u001B[0mbutton\u001B[0m\u001B[1;33m)\u001B[0m\u001B[1;33m)\u001B[0m\u001B[1;33m\u001B[0m\u001B[1;33m\u001B[0m\u001B[0m\n\u001B[0m\u001B[0;32m     88\u001B[0m \u001B[1;33m\u001B[0m\u001B[0m\n\u001B[0;32m     89\u001B[0m     \u001B[1;32mdef\u001B[0m \u001B[0mupdate_level_observer\u001B[0m\u001B[1;33m(\u001B[0m\u001B[0mself\u001B[0m\u001B[1;33m,\u001B[0m \u001B[0mname\u001B[0m\u001B[1;33m)\u001B[0m\u001B[1;33m:\u001B[0m\u001B[1;33m\u001B[0m\u001B[1;33m\u001B[0m\u001B[0m\n",
      "\u001B[1;32m~\\OneDrive - Universidad de Burgos\\- Sistemas Inteligentes\\Práctica 07 - 10.11.2020\\Clase7-VersionAutomaticaDelJuegoSinSolucion\\MediadorVPedroConBooleanoLlave.py\u001B[0m in \u001B[0;36mbutton_action_event\u001B[1;34m(self, button)\u001B[0m\n\u001B[0;32m    129\u001B[0m             \u001B[0mprint\u001B[0m\u001B[1;33m(\u001B[0m\u001B[0mself\u001B[0m\u001B[1;33m.\u001B[0m\u001B[0mnodes\u001B[0m\u001B[1;33m.\u001B[0m\u001B[0mheuristica_JEscapa\u001B[0m\u001B[1;33m(\u001B[0m\u001B[0mself\u001B[0m\u001B[1;33m.\u001B[0m\u001B[0mstate\u001B[0m\u001B[1;33m)\u001B[0m\u001B[1;33m)\u001B[0m\u001B[1;33m\u001B[0m\u001B[1;33m\u001B[0m\u001B[0m\n\u001B[0;32m    130\u001B[0m             \u001B[0mnodoInicial\u001B[0m \u001B[1;33m=\u001B[0m \u001B[0mself\u001B[0m\u001B[1;33m.\u001B[0m\u001B[0mnodes\u001B[0m\u001B[1;33m.\u001B[0m\u001B[0mnodo_inicial_JEscapa\u001B[0m\u001B[1;33m(\u001B[0m\u001B[0mself\u001B[0m\u001B[1;33m.\u001B[0m\u001B[0mlevel\u001B[0m\u001B[1;33m,\u001B[0m \u001B[0mself\u001B[0m\u001B[1;33m.\u001B[0m\u001B[0mstate\u001B[0m\u001B[1;33m,\u001B[0m \u001B[0mself\u001B[0m\u001B[1;33m.\u001B[0m\u001B[0mnodes\u001B[0m\u001B[1;33m.\u001B[0m\u001B[0mheuristica_JEscapa\u001B[0m\u001B[1;33m)\u001B[0m\u001B[1;33m\u001B[0m\u001B[1;33m\u001B[0m\u001B[0m\n\u001B[1;32m--> 131\u001B[1;33m \u001B[1;33m\u001B[0m\u001B[0m\n\u001B[0m\u001B[0;32m    132\u001B[0m             self.solucion = self.search.AStar(nodoInicial, self.nodes.sucesores_JEscapa, self.nodes.meta_JEscapa,\n\u001B[0;32m    133\u001B[0m                                               self.nodes.heuristica_JEscapa)\n",
      "\u001B[1;32m<string>\u001B[0m in \u001B[0;36mnodo_inicial_JEscapa\u001B[1;34m(nivel_actual, estado_actual, calcular_heuristica)\u001B[0m\n",
      "\u001B[1;32m<string>\u001B[0m in \u001B[0;36mheuristica_JEscapa\u001B[1;34m(estado)\u001B[0m\n",
      "\u001B[1;31mNameError\u001B[0m: name 'nivel_global' is not defined"
     ]
    }
   ],
   "source": [
    "# Utiliza el nivel \"level_medio_VPedroJEscapa.txt\", para encontrar la solución. \n",
    "\n",
    "from IPython.display import display\n",
    "from MediadorVPedroConBooleanoLlave import Mediator\n",
    "from UIJEscapaVPedro import gui\n",
    "\n",
    "import warnings\n",
    "warnings.filterwarnings(\"ignore\")\n",
    "ui = gui(manual = False)\n",
    "\n",
    "med = Mediator.get_instance(modelPath = \"JEscapaManualConBooleanoLlave.ipynb\",\n",
    "                           aStarPath = 'FuncionesBusquedaACompletarEstudiantes.ipynb',\n",
    "                           nodesPath = \"JuegoEscapaLlaveAutomVEstudiantes.ipynb\")\n",
    "\n",
    "med.register_ui(ui)\n",
    "\n",
    "\n",
    "# Cuando llamo a la función se crean\n",
    "display(ui.get_ui_elements())"
   ]
  },
  {
   "cell_type": "code",
   "execution_count": 218,
   "metadata": {},
   "outputs": [],
   "source": []
  }
 ],
 "metadata": {
  "kernelspec": {
   "display_name": "Python 3",
   "language": "python",
   "name": "python3"
  },
  "language_info": {
   "codemirror_mode": {
    "name": "ipython",
    "version": 3
   },
   "file_extension": ".py",
   "mimetype": "text/x-python",
   "name": "python",
   "nbconvert_exporter": "python",
   "pygments_lexer": "ipython3",
   "version": "3.8.5"
  },
  "widgets": {
   "state": {
    "042bada4e434454aaa908b25461e3531": {
     "views": [
      {
       "cell_index": 6
      }
     ]
    },
    "70d5bfdaf81b4f57ba5f3ab63745e01f": {
     "views": [
      {
       "cell_index": 6
      }
     ]
    },
    "ae0d245cc8874fb6951e921b363d8c61": {
     "views": [
      {
       "cell_index": 6
      }
     ]
    },
    "cb210eb6fe2d4689bd59da4880bb4db2": {
     "views": [
      {
       "cell_index": 4
      }
     ]
    }
   },
   "version": "1.2.0"
  }
 },
 "nbformat": 4,
 "nbformat_minor": 2
}