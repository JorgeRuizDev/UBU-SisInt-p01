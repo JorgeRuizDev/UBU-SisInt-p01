{
 "cells": [
  {
   "cell_type": "markdown",
   "metadata": {},
   "source": [
    "# *Escapa, con la llave*. \n",
    "## Organización del código, en *clases*.\n",
    "\n",
    "\n",
    "\n",
    "**Este es el primer *Notebook* asociado a la primera práctica obligatoria**.\n",
    "\n",
    "\n",
    "***TENED EN CUENTA** que habrá un segundo Notebook en el que se consigue que juegue solo usando A**\n",
    "\n",
    "----------------------------------------\n",
    "\n",
    "En esta primera parte de la práctica se va a estructurar el código de las funciones básicas (*Notebook* anterior) en clases, para así poder dejar el código listo para su adaptación al modo automático, usando *A\\** (cosa que se hará en las siguientes sesiones).\n",
    "\n",
    "------------------\n",
    "\n"
   ]
  },
  {
   "cell_type": "markdown",
   "metadata": {},
   "source": [
    "Para este *Notebook*, el profesor proporciona un conjunto de clases que el alumno no tiene que modificar, pero puede hacerlo si lo desea.\n",
    "\n",
    "El profesor proporciona:\n",
    "1. Este *Notebook*, con las explicaciones y el ***main*** \n",
    "2. La *clase* **ui**, la cual implementará los controles (botones, desplegables, y la representación visual del juego)\n",
    "3. La *clase* **Mediator** que pone en contacto los componentes gráficos entre sí, y utiliza los métodos de la clase **State**, **Level**, **Model**, y la clase **Loader**\n",
    "4. **State**: Funciones para la construcción y consulta de estados (jugadores, cajas ...) <--> Modulo **JEscapa** (**JEscapa.py**).\n",
    "5. **Level**: Funciones para la construcción y consulta de niveles (tablero, destinos) <--> Modulo **JEscapa** (**JEscapa.py**)."
   ]
  },
  {
   "cell_type": "markdown",
   "metadata": {},
   "source": [
    "## Descripción de las clases\n",
    "\n",
    "La representación del estado y de los niveles visto en el notebook de funciones básicas se ha organizado en clases.\n",
    "\n",
    "La clase **State**: \n",
    "- tiene un constructor que recibe el jugador, la(s) piedra(s) y la(s) casilla(s) de agua. \n",
    "- tiene un método **get_piedras** que devuelve las piedras\n",
    "- tiene un método **get_agua** que devuelve las coordenadas con agua\n",
    "\n",
    "- tiene un método **\\_\\_str\\_\\_** que permite obtener la representación en modo texto del objeto y un método **\\_\\_repr\\_\\_** equivalente, para usarlo dentro de colecciones.\n",
    "\n",
    "- Tiene también un método que permite determinar si dos estados son iguales y también otro para calcular su *hash*.\n",
    "\n",
    "La clase **Level**:\n",
    "- tiene un constructor que recibe el tablero y los destinos\n",
    "- tiene un método **get_tablero** que devuelve el tablero, y las paredes.\n",
    "- tiene un método **get_destino** que devuelve el destino al que se debe dirigir el jugador\n",
    "- tiene un método **\\_\\_str\\_\\_** que permite obtener la representación en modo texto del objeto, así como un método **\\_\\_repr\\_\\_** equivalente\n",
    "\n",
    "**Loader**, **UI**, **Mediator**\n",
    "\n"
   ]
  },
  {
   "cell_type": "code",
   "execution_count": 15,
   "metadata": {},
   "outputs": [],
   "source": [
    "# Cargar Celda\n",
    "# Ejemplo de visualización de un nivel\n",
    "from typing import Tuple, List, Set\n",
    "from UIJEscapaVPedro import gui\n",
    "from ipywidgets import HTML\n"
   ]
  },
  {
   "cell_type": "markdown",
   "metadata": {},
   "source": [
    "El alumno debe completar la implementación de los métodos de este notebook:\n",
    "\n",
    "\n",
    "## Funciones a implementar por el alumno.\n",
    "\n",
    "Nota: En el notebook anterior se usaban variables globales. En este notebook los valores están encapsulados en objetos. Pero la funcionalidad es la misma.\n",
    "\n",
    "- move(level,state,mov): Recibe un nivel, un estado y un movimiento. **Devuelve un nuevo estado** resultante de aplicar el movimiento. Esta función puede reutilizar las funciones del *Notebook* anterior.\n",
    "\n",
    "- is_goal(state): Recibe un estado. Devuelve True si los dos jugadores son None (los dos jugadores han llegado a la meta y es un estado final)\n",
    "\n",
    "**NOTA - IMPORTANTE**: No debes borrar **# Cargar Celda** en cada una de las celdas en que aparezca."
   ]
  },
  {
   "cell_type": "code",
   "execution_count": 16,
   "metadata": {},
   "outputs": [],
   "source": [
    "# Cargar Celda\n",
    "# No tocar esta primera linea\n",
    "\n",
    "# Completa las funciones de esta celda y pruebalas en celdas posteriores\n",
    "from EscapaConBooleanoLlave import Level, State\n",
    "\n",
    "def is_valid(tablero: Tuple[Tuple[int, ...]],\n",
    "             coord: Tuple[int, int]\n",
    "             ) -> bool:\n",
    "    \"\"\" Comprueba si una celda es váida y si es posible poner una piedra en esas coordenadas\n",
    "    \n",
    "    \n",
    "    Parámetros\n",
    "    ----------\n",
    "    coord -- coordenadas de la casilla a analizar\n",
    "    \n",
    "    Devolución\n",
    "    --------\n",
    "    Devuelve True si la casilla es válida y no existe piedra ni cualquier jugador any player\n",
    "    \"\"\"  \n",
    "    y,x = coord\n",
    "    alto,ancho = len(tablero),len(tablero[0])\n",
    "    return 0 <= y < alto and 0 <= x < ancho and tablero[coord[0]][coord[1]] ==1\n",
    "\n",
    "def is_piedra_free(tablero: Tuple[Tuple[int, ...]],\n",
    "                   piedra: Set[Tuple[int, int]],\n",
    "                   coord: Tuple[int, int]\n",
    "                   ) -> bool:\n",
    "    \"\"\" Comprueba si una casilla es válida y si es posible poner el jugador en esas coordenadas\n",
    "    \n",
    "    \n",
    "    Parámetros\n",
    "    ----------\n",
    "    coord -- coordenadas de la casilla a analizar\n",
    "    \n",
    "    Devolución\n",
    "    --------\n",
    "    Devuelve True si la casilla es válida y no existe piedra o agua.\n",
    "    \"\"\"   \n",
    "    \n",
    "    return is_valid(tablero, coord) and not tuple(coord) in piedra\n",
    "\n",
    "\n",
    "def is_player_free(tablero: Tuple[Tuple[int, ...]],\n",
    "                   enemigo: Tuple[int,int],\n",
    "                   aspas: Set[Tuple[int, int]],\n",
    "                   piedra: Set[Tuple[int, int]],\n",
    "                   agua: Set[Tuple[int,int]],\n",
    "                   coord: Tuple[int, int]\n",
    "                   )-> bool:\n",
    "    return is_piedra_free(tablero, piedra, coord) and not (coord in agua or  coord in aspas or coord in enemigo)"
   ]
  },
  {
   "cell_type": "code",
   "execution_count": 17,
   "metadata": {},
   "outputs": [],
   "source": [
    "# Cargar Celda\n",
    "def move_player(tablero: Tuple[Tuple[int, ...]],\n",
    "                player: List[int],\n",
    "                enemigo: Tuple[int, int],\n",
    "                piedra: Set[Tuple[int, int]],\n",
    "                agua: Set[Tuple[int,int]],\n",
    "                aspas: Set[Tuple[int,int]],\n",
    "                llave: Tuple[int, int],\n",
    "                destino: Tuple[int, int],\n",
    "                tiene_llave: bool,\n",
    "                mov: Tuple[int, int]\n",
    "                ) -> State:\n",
    "    \n",
    "    nueva_llave = set(llave)\n",
    "    \n",
    "    nuevoJ = tuple(map(lambda x,y: x+y,player,mov))\n",
    "        \n",
    "    if not is_player_free(tablero, enemigo, aspas, piedra, agua, nuevoJ):\n",
    "        return State(player,piedra,agua,aspas,llave, tiene_llave)\n",
    "    \n",
    "    \n",
    "    if nuevoJ == destino:\n",
    "        if tiene_llave:\n",
    "            return State(None, piedra, agua, aspas, nueva_llave, tiene_llave)\n",
    "        else:\n",
    "            # Si no tiene llave, no se puede avanzar:\n",
    "            return State(player,piedra,agua,aspas ,llave, tiene_llave)\n",
    "    elif nuevoJ in llave and not tiene_llave:\n",
    "        nueva_llave.remove(tuple(nuevoJ))\n",
    "        return State(list(nuevoJ), piedra, agua, aspas, nueva_llave, True)\n",
    "\n",
    "    # Es una casilla cualquiera\n",
    "    return State(list(nuevoJ), piedra, agua, aspas, llave, tiene_llave)\n",
    "    \n",
    "    "
   ]
  },
  {
   "cell_type": "code",
   "execution_count": 18,
   "metadata": {},
   "outputs": [],
   "source": [
    "# Cargar Celda\n",
    "def move_piedra(tablero: Tuple[Tuple[int, ...]],\n",
    "                player: List[int],\n",
    "                enemigo: Tuple[int,int],\n",
    "                piedras: Set[Tuple[int,int]],\n",
    "                aguas: Set[Tuple[int,int]],\n",
    "                aspas: Set[Tuple[int,int]],\n",
    "                llaves: Tuple[int, int],\n",
    "                tiene_llave: bool,\n",
    "                mov: Tuple[int, int]\n",
    "                ) -> State:\n",
    "\n",
    "    jugador_actual = player    \n",
    "        \n",
    "    nueva_piedra = set(piedras)\n",
    "    nueva_agua = set(aguas)\n",
    "    nueva_llave = set(llaves)\n",
    "    nueva_aspa = set(aspas)\n",
    "        \n",
    "    nuevaCoord = list(map(lambda x,y: x+y,jugador_actual,mov))\n",
    "    nuevaCoord2 = list(map(lambda x,y: x+y,nuevaCoord,mov))\n",
    "    \n",
    "    \n",
    "    if tuple(nuevaCoord) in piedras and is_piedra_free(tablero, piedras, nuevaCoord2):\n",
    "        nueva_piedra.remove(tuple(nuevaCoord))\n",
    "        \n",
    "        if tuple(nuevaCoord2) in aguas:\n",
    "            nueva_agua.remove(tuple(nuevaCoord2))\n",
    "        \n",
    "        \n",
    "        elif tuple(nuevaCoord2) in aspas:\n",
    "            nueva_aspa.remove(tuple(nuevaCoord2))\n",
    "            nueva_piedra.add(tuple(nuevaCoord2))\n",
    "            \n",
    "            \n",
    "            y,x = nuevaCoord2\n",
    "            alto,ancho = len(tablero),len(tablero[0])\n",
    "                        \n",
    "            \n",
    "            for i in range(y+1,alto-1,1):\n",
    "                            \n",
    "                nuevaCoord3 = i,x\n",
    "                nueva_aspa.remove(tuple(nuevaCoord3))\n",
    "                                \n",
    "                \n",
    "        else:\n",
    "            nueva_piedra.add(tuple(nuevaCoord2))               \n",
    "    \n",
    "    \n",
    "    return State(player,nueva_piedra,nueva_agua,nueva_aspa,llaves, False)"
   ]
  },
  {
   "cell_type": "code",
   "execution_count": 19,
   "metadata": {},
   "outputs": [],
   "source": [
    "# Cargar Celda\n",
    "def move(level: Level, state: State, mov: Tuple[int, int]):\n",
    "    \"\"\" Mueve al jugador: [1,0] (Arriba), [-1,0] (Abajo), [0,1] (Derecha), [0,-1] (Izquierda)\n",
    "    \n",
    "    Parámetros\n",
    "    ----------\n",
    "    level -- Un \"nivel\"\n",
    "    State -- Un \"estado\"\n",
    "    mov -- Dirección del movimiento\n",
    "    \n",
    "    Devolución\n",
    "    --------\n",
    "    Devuelve un nuevo estado, o el mismo, si el movimiento indicado no es posible.\n",
    "    \"\"\"\n",
    "        \n",
    "    piedra = state.get_piedra()\n",
    "    agua = state.get_agua()\n",
    "    aspa=state.get_aspa()\n",
    "    llave = state.get_llave()\n",
    "    tiene_llave = state.tiene_llave()\n",
    "    player = state.get_player()\n",
    "    movimiento = mov\n",
    "        \n",
    "    tablero = level.get_tablero()\n",
    "    destino = level.get_destino()\n",
    "    \n",
    "    enemigo = level.get_enemigo()\n",
    "        \n",
    "    e1= move_piedra(tablero, player, enemigo, piedra, agua, aspa, llave, tiene_llave, mov)\n",
    "    e2 = move_player(tablero, player, enemigo, e1.get_piedra(), e1.get_agua(), e1.get_aspa(), llave,destino, tiene_llave, mov)\n",
    "    \n",
    "    return e2"
   ]
  },
  {
   "cell_type": "code",
   "execution_count": 20,
   "metadata": {},
   "outputs": [],
   "source": [
    "# Cargar Celda\n",
    "def is_goal(state):\n",
    "    \"\"\" Determinación de si \"es el objetivo\" \n",
    "    \n",
    "    Parámetros\n",
    "    ----------\n",
    "    state -- Un \"estado\"\n",
    "    \n",
    "    Devolución\n",
    "    --------\n",
    "    Devuelve \"True\" si el \"estado\" es un \"objetivo\"\n",
    "    \"\"\"\n",
    "    player = state.get_player()\n",
    "    return player is None\n",
    "\n"
   ]
  },
  {
   "cell_type": "markdown",
   "metadata": {},
   "source": [
    "Una vez hayas implementado y probado las funciones, trata de ejecutar el juego.\n",
    "\n",
    "El **Mediador** es la clase que sirve de enganche entre las clases de interfaz y la funcionalidad. Leerá las celdas que empiezan por \"# Cargar Celda\", cargará esas funciones dinámicamente, y las usará para mover y comprobar si la partida finaliza.\n",
    "\n",
    "\n",
    "# Atención\n",
    "Es código de abajo carga el *Notebook* actual, por lo que si queremos que el funcionamiento se actualize debemos guardar el *Notebook* y recargar todo el proyecto."
   ]
  },
  {
   "cell_type": "code",
   "execution_count": 21,
   "metadata": {},
   "outputs": [
    {
     "data": {
      "text/plain": "VBox(children=(Dropdown(description='Elija nivel:', options=('level_PruebaJEscapa.txt', 'level_PruebaJEscapaTr…",
      "application/vnd.jupyter.widget-view+json": {
       "version_major": 2,
       "version_minor": 0,
       "model_id": "d06467ddaf504b1183023ce3f9229e77"
      }
     },
     "metadata": {},
     "output_type": "display_data"
    }
   ],
   "source": [
    "from IPython.display import display\n",
    "from MediadorVPedroConBooleanoLlave import Mediator\n",
    "from UIJEscapaVPedro import gui\n",
    "import warnings\n",
    "warnings.filterwarnings(\"ignore\")\n",
    "ui = gui(manual = True)\n",
    "\n",
    "med = Mediator.get_instance(modelPath = \"JEscapaManualConBooleanoLlave.ipynb\")\n",
    "med.register_ui(ui)\n",
    "\n",
    "\n",
    "# Cuando llamo a la función se crean\n",
    "display(ui.get_ui_elements())\n",
    "\n",
    "\n"
   ]
  },
  {
   "cell_type": "code",
   "execution_count": 21,
   "metadata": {},
   "outputs": [],
   "source": []
  }
 ],
 "metadata": {
  "kernelspec": {
   "display_name": "Python 3",
   "language": "python",
   "name": "python3"
  },
  "language_info": {
   "codemirror_mode": {
    "name": "ipython",
    "version": 3
   },
   "file_extension": ".py",
   "mimetype": "text/x-python",
   "name": "python",
   "nbconvert_exporter": "python",
   "pygments_lexer": "ipython3",
   "version": "3.8.5"
  },
  "widgets": {
   "state": {
    "042bada4e434454aaa908b25461e3531": {
     "views": [
      {
       "cell_index": 6
      }
     ]
    },
    "70d5bfdaf81b4f57ba5f3ab63745e01f": {
     "views": [
      {
       "cell_index": 6
      }
     ]
    },
    "ae0d245cc8874fb6951e921b363d8c61": {
     "views": [
      {
       "cell_index": 6
      }
     ]
    },
    "cb210eb6fe2d4689bd59da4880bb4db2": {
     "views": [
      {
       "cell_index": 4
      }
     ]
    }
   },
   "version": "1.2.0"
  }
 },
 "nbformat": 4,
 "nbformat_minor": 2
}